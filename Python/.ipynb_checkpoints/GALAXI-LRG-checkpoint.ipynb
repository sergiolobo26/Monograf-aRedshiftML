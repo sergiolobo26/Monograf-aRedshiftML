{
 "cells": [
  {
   "cell_type": "code",
   "execution_count": 1,
   "metadata": {},
   "outputs": [
    {
     "name": "stdout",
     "output_type": "stream",
     "text": [
      "Populating the interactive namespace from numpy and matplotlib\n"
     ]
    }
   ],
   "source": [
    "%pylab inline"
   ]
  },
  {
   "cell_type": "markdown",
   "metadata": {},
   "source": []
  },
  {
   "cell_type": "code",
   "execution_count": 2,
   "metadata": {},
   "outputs": [],
   "source": [
    "import fitsio\n",
    "#https://heasarc.gsfc.nasa.gov/fitsio/fitsio.html"
   ]
  },
  {
   "cell_type": "markdown",
   "metadata": {},
   "source": [
    "# --- GALAXI-LRG ---"
   ]
  },
  {
   "cell_type": "code",
   "execution_count": 3,
   "metadata": {},
   "outputs": [],
   "source": [
    "fits_tru = fitsio.FITS('/home/sd.lobo251/Documents/dc17b/data_true_mod.fits')"
   ]
  },
  {
   "cell_type": "code",
   "execution_count": 4,
   "metadata": {},
   "outputs": [],
   "source": [
    "fits_tar = fitsio.FITS('/home/sd.lobo251/Documents/dc17b/data_tar_mod.fits')"
   ]
  },
  {
   "cell_type": "code",
   "execution_count": null,
   "metadata": {},
   "outputs": [],
   "source": [
    "#funtion to select specific data from the original data_set\n",
    "\n",
    "\n",
    "def select_dataset(name_to_select, target_column, true_data, tar_data):\n",
    "    \n",
    "    '''\n",
    "    returns data_set_1 and data-set_2 with only the data corresponding to name_to_select\n",
    "    '''\n",
    "    n_rows = len(true_data[1][target_column][:])\n",
    "    \n",
    "    true_array_to_return = []\n",
    "    tar_array_to_return = []\n",
    "    for i in range(n_rows):\n",
    "        name_in_file = true_data[1][target_column][i]\n",
    "        if name_to_select == name_in_file:\n",
    "            true_array_to_return.append(true_data[1][i])\n",
    "            tar_array_to_return.append(tar_data[1][i])\n",
    "    "
   ]
  },
  {
   "cell_type": "code",
   "execution_count": 22,
   "metadata": {},
   "outputs": [],
   "source": [
    "a = [fits_tru[1][12345]]"
   ]
  },
  {
   "cell_type": "code",
   "execution_count": 26,
   "metadata": {},
   "outputs": [
    {
     "data": {
      "text/plain": [
       "array([ (288230376202047524, b'0449p032', 4132,  44.89962946,  3.30061668,  6.27865458,  14.9369421,  23.57606316,  10.66279125,  6.29331875,  0.,  0.,  0.,  0.,  0.,  0.,  24.6484127,  23.93743324,  23.52474213,  24.43085098,  23.63277245,  23.13562584,  0.7803672,  0.84615701,  0.91009003,  0.98590297,  0.99131888, 349267, 3458764513820540928, 65537, 65536, 12,  0.46477829, 7,  6881.97597844, [ 888.48858341,   16.13720893,   32.27137064,  -15.03559665,   56.15108663,    0.        ,    0.        ,    0.        ,    0.        ,    0.        ],  0.00019885,   7.36193299e-06, 0, b'STAR  ', b'K',  1579.06341597)],\n",
       "      dtype=[('TARGETID', '>i8'), ('BRICKNAME', 'S8'), ('BRICK_OBJID', '>i4'), ('RA', '>f8'), ('DEC', '>f8'), ('FLUX_G', '>f4'), ('FLUX_R', '>f4'), ('FLUX_Z', '>f4'), ('FLUX_W1', '>f4'), ('FLUX_W2', '>f4'), ('SHAPEEXP_R', '>f4'), ('SHAPEEXP_E1', '>f4'), ('SHAPEEXP_E2', '>f4'), ('SHAPEDEV_R', '>f4'), ('SHAPEDEV_E1', '>f4'), ('SHAPEDEV_E2', '>f4'), ('PSFDEPTH_G', '>f4'), ('PSFDEPTH_R', '>f4'), ('PSFDEPTH_Z', '>f4'), ('GALDEPTH_G', '>f4'), ('GALDEPTH_R', '>f4'), ('GALDEPTH_Z', '>f4'), ('MW_TRANSMISSION_G', '>f4'), ('MW_TRANSMISSION_R', '>f4'), ('MW_TRANSMISSION_Z', '>f4'), ('MW_TRANSMISSION_W1', '>f4'), ('MW_TRANSMISSION_W2', '>f4'), ('BRICKID', '>i4'), ('DESI_TARGET', '>i8'), ('BGS_TARGET', '>i8'), ('MWS_TARGET', '>i8'), ('HPXPIXEL', '>i8'), ('SUBPRIORITY', '>f8'), ('OBSCONDITIONS', '>i8'), ('CHI2', '>f8'), ('COEFF', '>f8', (10,)), ('Z', '>f8'), ('ZERR', '>f8'), ('ZWARN', '>i8'), ('SPECTYPE', 'S6'), ('SUBTYPE', 'S1'), ('DELTACHI2', '>f8')])"
      ]
     },
     "execution_count": 26,
     "metadata": {},
     "output_type": "execute_result"
    }
   ],
   "source": [
    "fits_tar[1][12345]"
   ]
  },
  {
   "cell_type": "code",
   "execution_count": 24,
   "metadata": {},
   "outputs": [],
   "source": [
    "a = array(a)"
   ]
  },
  {
   "cell_type": "code",
   "execution_count": 28,
   "metadata": {},
   "outputs": [
    {
     "data": {
      "text/plain": [
       "(288230376202047524, 131125, 1048577,  0.00019102, b'STAR      ', b'STAR      ', b'          ', 405, 3069285804,  19.56372261,  6.25460625,  14.94551754,  23.50305557,  11.68823433,  6.68281984, -1., -1.,  4500.,  5., -0.5)"
      ]
     },
     "execution_count": 28,
     "metadata": {},
     "output_type": "execute_result"
    }
   ],
   "source": [
    "a[0,0]"
   ]
  },
  {
   "cell_type": "code",
   "execution_count": null,
   "metadata": {},
   "outputs": [],
   "source": []
  }
 ],
 "metadata": {
  "kernelspec": {
   "display_name": "Python 3",
   "language": "python",
   "name": "python3"
  },
  "language_info": {
   "codemirror_mode": {
    "name": "ipython",
    "version": 3
   },
   "file_extension": ".py",
   "mimetype": "text/x-python",
   "name": "python",
   "nbconvert_exporter": "python",
   "pygments_lexer": "ipython3",
   "version": "3.6.3"
  }
 },
 "nbformat": 4,
 "nbformat_minor": 2
}
