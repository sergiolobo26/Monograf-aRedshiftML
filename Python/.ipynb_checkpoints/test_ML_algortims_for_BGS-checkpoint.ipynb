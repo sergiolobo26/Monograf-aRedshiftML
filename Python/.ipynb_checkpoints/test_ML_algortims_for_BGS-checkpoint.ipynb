{
 "cells": [
  {
   "cell_type": "code",
   "execution_count": 8,
   "metadata": {},
   "outputs": [
    {
     "name": "stdout",
     "output_type": "stream",
     "text": [
      "Populating the interactive namespace from numpy and matplotlib\n"
     ]
    }
   ],
   "source": [
    "%pylab inline"
   ]
  },
  {
   "cell_type": "code",
   "execution_count": 9,
   "metadata": {},
   "outputs": [
    {
     "name": "stdout",
     "output_type": "stream",
     "text": [
      "batch_job-8.sh            krr_njobs1.txt   LRG_true\r\n",
      "batch_job.sh              krr_results.out  Magnitud_Z.ipynb\r\n",
      "GALAXY-BGS.ipynb          krr_template.py  nohup.out\r\n",
      "GALAXY-LRG.ipynb          krr_test.out     \u001b[0m\u001b[01;34m__pycache__\u001b[0m/\r\n",
      "krr_grid_search.py        krr_train.out    svr_grid_search.py\r\n",
      "krr_grid_search-test1.py  LRG_tar          test_ML_algortims_for_BGS.ipynb\r\n"
     ]
    }
   ],
   "source": [
    "ls"
   ]
  },
  {
   "cell_type": "code",
   "execution_count": 10,
   "metadata": {},
   "outputs": [
    {
     "data": {
      "text/plain": [
       "'/home/sd.lobo251/Desktop/git/RedShiftML_/Python'"
      ]
     },
     "execution_count": 10,
     "metadata": {},
     "output_type": "execute_result"
    }
   ],
   "source": [
    "pwd"
   ]
  },
  {
   "cell_type": "code",
   "execution_count": 23,
   "metadata": {
    "collapsed": true
   },
   "outputs": [],
   "source": [
    "#time vectors:\n",
    "\n",
    "#n_jobs = 1\n",
    "# ppn=32, mem=64\n",
    "njobs1_fit_mean = [0.6563,   4.5574,   98.2674,  340.9284]\n",
    "njobs1_fit_error = [0.3758,     0.1468,   0.0954,  0.3033]\n",
    "\n",
    "njobs1_pred_mean = [4.7517e-04,   7.5332e-03,   1.6545e-01,   5.5307e-01]\n",
    "njobs1_pred_error = [6.8729e-05,   3.7210e-04,   1.5883e-03,   1.5807e-02]\n",
    "\n",
    "#n_jobs = 1\n",
    "# ppn=32, mem=32\n",
    "njobs12_fit_mean = [ 0.5941 ,   4.0394,   92.8291,  357.6147 ]\n",
    "njobs12_fit_error = [  0.3375,  0.0361 , 0.0382,  0.1608]\n",
    "\n",
    "njobs12_pred_mean = [ 3.9721e-04 ,  5.9602e-03  , 1.4817e-01  , 5.7699e-01]\n",
    "njobs12_pred_error = [ 1.7643e-05 ,  1.2327e-04 ,  3.9560e-04 ,  3.8981e-03]\n",
    "\n",
    "# -------------------------------------------------------------------------------\n",
    "\n",
    "#n_jobs = 4\n",
    "# ppn=8, mem=16\n",
    "njobs4_fit_mean = [37.3983,   412.7043,   6849.4955,  15406.7071]\n",
    "njobs4_fit_error = [21.4944,     65.0584,   3830.2076,  11210.5692]\n",
    "\n",
    "njobs4_pred_mean = [5.9589e-04,   3.4594e-02,   2.9752e+01,   5.3781e+01]\n",
    "njobs4_pred_error = [5.5555e-05,   1.7173e-03,   2.4003e+01,   4.3107e+01]\n",
    "\n",
    "#n_jobs = 4\n",
    "# ppn=32, mem=32\n",
    "\n",
    "njobs42_fit_mean = [ 0.7678 ,   5.7375 ,  51.4291,  146.9329]\n",
    "njobs42_fit_error = [ 0.0366 , 0.3944 , 0.4265,  1.0651]\n",
    "\n",
    "njobs42_pred_mean = [ 0.0011,  0.0084,  0.2269 , 0.6987]\n",
    "njobs42_pred_error = [ 0.0002 , 0.0008,  0.0123,  0.013 ]\n",
    "\n",
    "# -------------------------------------------------------------------------------\n",
    "#n_jobs = 8\n",
    "# ppn=16 ,mem= 32\n",
    "njobs81_fit_mean=  [   5.0733,  153.1527,  490.3082, 670.5144]\n",
    "njobs81_fit_error=  [  0.037,    2.1263,   5.0282,  10.7809] \n",
    "\n",
    "njobs81_pred_mean = [ 0.0005,  0.0146,  0.195,   0.5065]\n",
    "njobs81_pred_error = [  4.4724e-05,   8.7791e-04,   9.1646e-03,   6.3661e-03] \n",
    "    \n",
    "#n_jobs = 8\n",
    "# ppn= 32, mem= 32\n",
    "njobs82_fit_mean = [   5.9411,  134.1912,  300.6281,  415.2503]\n",
    "njobs82_fit_error = [ 0.0397,  1.1395,  2.6022,  1.5424] \n",
    "\n",
    "njobs82_pred_mean = [ 0.0014,  0.0165,  0.193,   0.595 ]\n",
    "njobs82_pred_error = [ 0.0007,  0.004,   0.0114,  0.0038] \n",
    "    \n",
    "#n_jobs = 8\n",
    "# ppn= 8, mem=16\n",
    "njobs83_fit_mean = [  322.3028,   339.5963,  3534.0626,  2979.7312]\n",
    "njobs83_fit_error = [  254.2151,    19.1855,  1905.8418,  1404.8172] \n",
    "\n",
    "njobs83_pred_mean = [  5.5281e-04,   7.6867e-02,   5.9666e+01,   6.7151e-01]\n",
    "njobs83_pred_error = [  9.5670e-05,   1.8453e-03 ,  4.8466e+01 ,  3.1150e-02] \n",
    "\n",
    "#n_jobs = 8\n",
    "# ppn= 16, mem=64\n",
    "\n",
    "njobs84_fit_mean =  [   5.1279,  159.4978 , 503.0066,  689.4906]\n",
    "njobs84_fit_error =  [ 0.1651,  6.1825 , 1.4837,  1.5344] \n",
    "\n",
    "njobs84_pred_mean =   [ 0.0006,  0.0125,  0.2413,  0.6226]\n",
    "njobs84_pred_error =   [  8.8792e-06,   2.5068e-03,   2.5919e-02,   7.8364e-02] \n",
    "\n",
    "# -------------------------------------------------------------------------------\n",
    "#n_jobs = 16\n",
    "# ppn= 32, mem=32\n",
    "\n",
    "njobs161_fit_mean =  [   300.7808,   1978.296 ,   4749.9376 , 10732.7107]\n",
    "njobs161_fit_error = [  146.2924 , 1123.4129 , 1818.3769 , 3953.3885] \n",
    "\n",
    "njobs161_pred_mean =  [  6.9722e-04  , 1.0108e-02 ,  2.3376e-01 ,  7.4573e-01]\n",
    "njobs161_pred_error =  [  1.6717e-05 ,  2.6070e-03,   1.0397e-02 ,  1.1032e-01] \n",
    "    \n",
    "#n_jobs = 16\n",
    "# ppn= 32, mem=128\n",
    "\n",
    "njobs162_fit_mean = [ 0.9731,   4.5099,  25.3806,  66.0461  ]\n",
    "njobs162_fit_error =  [ 0.5384,  0.0616,  0.1732,  0.3939  ] \n",
    "\n",
    "njobs162_pred_mean =  [ 4.6897e-04,   1.2616e-02 ,  2.1646e-01  , 6.2114e-01  ]\n",
    "njobs162_pred_error =   [ 4.1433e-05,   4.5715e-03 ,  3.6269e-02  , 1.8564e-03 ] \n",
    "    \n",
    "    \n",
    "# -------------------------------------------------------------------------------\n",
    "\n",
    "\n",
    "data_set = [100, 1000, 5000, 10000]\n",
    "\n",
    "\n",
    "\n",
    "\n",
    "\n"
   ]
  },
  {
   "cell_type": "code",
   "execution_count": 46,
   "metadata": {},
   "outputs": [
    {
     "data": {
      "text/plain": [
       "<Container object of 3 artists>"
      ]
     },
     "execution_count": 46,
     "metadata": {},
     "output_type": "execute_result"
    },
    {
     "data": {
      "image/png": "[encoded data removed]",
      "text/plain": [
       "<matplotlib.figure.Figure at 0x7fdf579f9c18>"
      ]
     },
     "metadata": {},
     "output_type": "display_data"
    }
   ],
   "source": [
    "errorbar( log10(data_set), log10(njobs161_fit_mean), yerr= log10(njobs161_fit_error), fmt='--', markersize=2, ecolor='b', capthick=2)\n",
    "errorbar( log10(data_set), log10(njobs162_fit_mean), yerr= log10(njobs162_fit_error), fmt='--', markersize=2, ecolor='y', capthick=2, color='y')\n",
    "\n",
    "errorbar( log10(data_set), log10(njobs81_fit_mean), yerr= log10(njobs81_fit_error), fmt='--', markersize=2, ecolor='r', capthick=2, color='r')\n",
    "errorbar( log10(data_set), log10(njobs82_fit_mean), yerr= log10(njobs82_fit_error), fmt='--', markersize=2, ecolor='m', capthick=2, color='m')"
   ]
  },
  {
   "cell_type": "code",
   "execution_count": 44,
   "metadata": {},
   "outputs": [
    {
     "ename": "TypeError",
     "evalue": "can only concatenate list (not \"int\") to list",
     "output_type": "error",
     "traceback": [
      "\u001b[0;31m---------------------------------------------------------------------------\u001b[0m",
      "\u001b[0;31mTypeError\u001b[0m                                 Traceback (most recent call last)",
      "\u001b[0;32m<ipython-input-44-6e162d6e0998>\u001b[0m in \u001b[0;36m<module>\u001b[0;34m()\u001b[0m\n\u001b[0;32m----> 1\u001b[0;31m \u001b[0mdata_set\u001b[0m \u001b[0;34m+\u001b[0m \u001b[0;36m1\u001b[0m\u001b[0;34m\u001b[0m\u001b[0m\n\u001b[0m",
      "\u001b[0;31mTypeError\u001b[0m: can only concatenate list (not \"int\") to list"
     ]
    }
   ],
   "source": []
  },
  {
   "cell_type": "code",
   "execution_count": null,
   "metadata": {},
   "outputs": [],
   "source": []
  }
 ],
 "metadata": {
  "kernelspec": {
   "display_name": "Python 3",
   "language": "python",
   "name": "python3"
  },
  "language_info": {
   "codemirror_mode": {
    "name": "ipython",
    "version": 3
   },
   "file_extension": ".py",
   "mimetype": "text/x-python",
   "name": "python",
   "nbconvert_exporter": "python",
   "pygments_lexer": "ipython3",
   "version": "3.6.3"
  }
 },
 "nbformat": 4,
 "nbformat_minor": 2
}
